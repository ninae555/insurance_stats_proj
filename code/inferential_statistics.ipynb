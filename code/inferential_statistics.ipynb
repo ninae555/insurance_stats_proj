{
 "cells": [
  {
   "cell_type": "markdown",
   "metadata": {},
   "source": [
    "# Inferential Statistics \n",
    "Judging from the EDA, it is valuable to conduct inferential statistics to be able to understnad the relationship between our policy holders and the claims rate"
   ]
  },
  {
   "cell_type": "code",
   "execution_count": 1,
   "metadata": {},
   "outputs": [],
   "source": [
    "import pandas as pd\n",
    "import numpy as np\n",
    "from scipy.stats import chi2_contingency\n",
    "from scipy.stats import f_oneway\n",
    "import statsmodels.api as sm\n",
    "from pathlib import Path\n",
    "import seaborn as sns\n",
    "import matplotlib.pyplot as plt\n",
    "from sklearn.ensemble import RandomForestClassifier\n",
    "from sklearn.model_selection import train_test_split\n",
    "from sklearn.metrics import accuracy_score, classification_report\n",
    "from sklearn.utils import resample  # Importing the resample function from sklearn.utils for data resampling\n",
    "from sklearn.preprocessing import LabelEncoder"
   ]
  },
  {
   "cell_type": "code",
   "execution_count": 2,
   "metadata": {},
   "outputs": [],
   "source": [
    "#Load our Data \n",
    "\n",
    "project_root = Path().resolve().parent  # Moves up one directory from `code/`\n",
    "\n",
    "# Construct the correct relative path\n",
    "data_path = project_root / \"data\" / \"Insurance_claims_data.csv\"\n",
    "\n",
    "# Load the dataset\n",
    "insurance = pd.read_csv(data_path)\n"
   ]
  },
  {
   "cell_type": "code",
   "execution_count": 3,
   "metadata": {},
   "outputs": [
    {
     "name": "stdout",
     "output_type": "stream",
     "text": [
      "Chi-Square Test Statistic: 1.4666815737178478\n",
      "P-value: 0.8325265632423358\n"
     ]
    }
   ],
   "source": [
    "\n",
    "\n",
    "# NCAP rating vs. claim status\n",
    "contingency_table = pd.crosstab(insurance[\"ncap_rating\"], insurance[\"claim_status\"])\n",
    "\n",
    "# Perform Chi-Square test\n",
    "chi2, p, dof, expected = chi2_contingency(contingency_table)\n",
    "\n",
    "print(f\"Chi-Square Test Statistic: {chi2}\")\n",
    "print(f\"P-value: {p}\")\n"
   ]
  },
  {
   "cell_type": "code",
   "execution_count": 4,
   "metadata": {},
   "outputs": [
    {
     "name": "stdout",
     "output_type": "stream",
     "text": [
      "Chi-Square Test Statistic: 17.61817556790302\n",
      "P-value: 0.0001493694510200383\n"
     ]
    }
   ],
   "source": [
    "\n",
    "# Binning region density into Low, Medium, and High categories\n",
    "insurance[\"density_group\"] = pd.qcut(insurance[\"region_density\"], q=3, labels=[\"Low\", \"Medium\", \"High\"])\n",
    "\n",
    "# Contingency table: Region Density vs. Claim Status\n",
    "contingency_table = pd.crosstab(insurance[\"density_group\"], insurance[\"claim_status\"])\n",
    "\n",
    "# Perform Chi-Square test\n",
    "chi2, p, dof, expected = chi2_contingency(contingency_table)\n",
    "\n",
    "print(f\"Chi-Square Test Statistic: {chi2}\")\n",
    "print(f\"P-value: {p}\")\n"
   ]
  },
  {
   "cell_type": "code",
   "execution_count": null,
   "metadata": {},
   "outputs": [],
   "source": []
  },
  {
   "cell_type": "code",
   "execution_count": 5,
   "metadata": {},
   "outputs": [
    {
     "name": "stdout",
     "output_type": "stream",
     "text": [
      "ANOVA Test Statistic: 0.36664828126928556\n",
      "P-value: 0.8325409643155399\n"
     ]
    }
   ],
   "source": [
    "\n",
    "# Compare claim rates across different NCAP ratings\n",
    "anova_result = f_oneway(\n",
    "    insurance[insurance[\"ncap_rating\"] == 0][\"claim_status\"],\n",
    "    insurance[insurance[\"ncap_rating\"] == 2][\"claim_status\"],\n",
    "    insurance[insurance[\"ncap_rating\"] == 3][\"claim_status\"],\n",
    "    insurance[insurance[\"ncap_rating\"] == 4][\"claim_status\"],\n",
    "    insurance[insurance[\"ncap_rating\"] == 5][\"claim_status\"]\n",
    ")\n",
    "\n",
    "print(f\"ANOVA Test Statistic: {anova_result.statistic}\")\n",
    "print(f\"P-value: {anova_result.pvalue}\")\n"
   ]
  },
  {
   "cell_type": "code",
   "execution_count": 6,
   "metadata": {},
   "outputs": [
    {
     "name": "stdout",
     "output_type": "stream",
     "text": [
      "Optimization terminated successfully.\n",
      "         Current function value: 0.233666\n",
      "         Iterations 7\n",
      "                           Logit Regression Results                           \n",
      "==============================================================================\n",
      "Dep. Variable:           claim_status   No. Observations:                58592\n",
      "Model:                          Logit   Df Residuals:                    58587\n",
      "Method:                           MLE   Df Model:                            4\n",
      "Date:                Tue, 18 Feb 2025   Pseudo R-squ.:                 0.01717\n",
      "Time:                        11:44:54   Log-Likelihood:                -13691.\n",
      "converged:                       True   LL-Null:                       -13930.\n",
      "Covariance Type:            nonrobust   LLR p-value:                3.268e-102\n",
      "=======================================================================================\n",
      "                          coef    std err          z      P>|z|      [0.025      0.975]\n",
      "---------------------------------------------------------------------------------------\n",
      "const                  -3.0586      0.045    -68.165      0.000      -3.147      -2.971\n",
      "vehicle_age            -0.1738      0.017    -10.002      0.000      -0.208      -0.140\n",
      "ncap_rating             0.0066      0.014      0.483      0.629      -0.020       0.034\n",
      "airbags                 0.0039      0.010      0.390      0.696      -0.015       0.023\n",
      "subscription_length     0.0869      0.004     19.993      0.000       0.078       0.095\n",
      "=======================================================================================\n"
     ]
    }
   ],
   "source": [
    "\n",
    "# Select predictor variables\n",
    "X = insurance[[\"vehicle_age\", \"ncap_rating\", \"airbags\", \"subscription_length\"]]\n",
    "X = sm.add_constant(X)  # Add intercept term\n",
    "\n",
    "# Target variable (claim status)\n",
    "y = insurance[\"claim_status\"]\n",
    "\n",
    "# Fit logistic regression model\n",
    "logit_model = sm.Logit(y, X).fit()\n",
    "\n",
    "# Print summary\n",
    "print(logit_model.summary())\n"
   ]
  },
  {
   "cell_type": "code",
   "execution_count": 7,
   "metadata": {},
   "outputs": [
    {
     "data": {
      "text/html": [
       "<div>\n",
       "<style scoped>\n",
       "    .dataframe tbody tr th:only-of-type {\n",
       "        vertical-align: middle;\n",
       "    }\n",
       "\n",
       "    .dataframe tbody tr th {\n",
       "        vertical-align: top;\n",
       "    }\n",
       "\n",
       "    .dataframe thead th {\n",
       "        text-align: right;\n",
       "    }\n",
       "</style>\n",
       "<table border=\"1\" class=\"dataframe\">\n",
       "  <thead>\n",
       "    <tr style=\"text-align: right;\">\n",
       "      <th></th>\n",
       "      <th>vehicle_age</th>\n",
       "      <th>ncap_rating</th>\n",
       "      <th>airbags</th>\n",
       "      <th>displacement</th>\n",
       "      <th>claim_status</th>\n",
       "    </tr>\n",
       "  </thead>\n",
       "  <tbody>\n",
       "    <tr>\n",
       "      <th>vehicle_age</th>\n",
       "      <td>1.000000</td>\n",
       "      <td>0.348853</td>\n",
       "      <td>0.209073</td>\n",
       "      <td>0.393208</td>\n",
       "      <td>-0.028172</td>\n",
       "    </tr>\n",
       "    <tr>\n",
       "      <th>ncap_rating</th>\n",
       "      <td>0.348853</td>\n",
       "      <td>1.000000</td>\n",
       "      <td>0.341557</td>\n",
       "      <td>0.847065</td>\n",
       "      <td>0.003800</td>\n",
       "    </tr>\n",
       "    <tr>\n",
       "      <th>airbags</th>\n",
       "      <td>0.209073</td>\n",
       "      <td>0.341557</td>\n",
       "      <td>1.000000</td>\n",
       "      <td>0.661190</td>\n",
       "      <td>0.002789</td>\n",
       "    </tr>\n",
       "    <tr>\n",
       "      <th>displacement</th>\n",
       "      <td>0.393208</td>\n",
       "      <td>0.847065</td>\n",
       "      <td>0.661190</td>\n",
       "      <td>1.000000</td>\n",
       "      <td>0.007678</td>\n",
       "    </tr>\n",
       "    <tr>\n",
       "      <th>claim_status</th>\n",
       "      <td>-0.028172</td>\n",
       "      <td>0.003800</td>\n",
       "      <td>0.002789</td>\n",
       "      <td>0.007678</td>\n",
       "      <td>1.000000</td>\n",
       "    </tr>\n",
       "  </tbody>\n",
       "</table>\n",
       "</div>"
      ],
      "text/plain": [
       "              vehicle_age  ncap_rating   airbags  displacement  claim_status\n",
       "vehicle_age      1.000000     0.348853  0.209073      0.393208     -0.028172\n",
       "ncap_rating      0.348853     1.000000  0.341557      0.847065      0.003800\n",
       "airbags          0.209073     0.341557  1.000000      0.661190      0.002789\n",
       "displacement     0.393208     0.847065  0.661190      1.000000      0.007678\n",
       "claim_status    -0.028172     0.003800  0.002789      0.007678      1.000000"
      ]
     },
     "execution_count": 7,
     "metadata": {},
     "output_type": "execute_result"
    }
   ],
   "source": [
    "# Check correlation with claim status\n",
    "insurance[[\"vehicle_age\", \"ncap_rating\", \"airbags\", \"displacement\", \"claim_status\"]].corr()\n"
   ]
  },
  {
   "cell_type": "code",
   "execution_count": 8,
   "metadata": {},
   "outputs": [],
   "source": [
    "# Identify categorical features that need encoding\n",
    "categorical_features = [\"is_parking_sensors\", \"is_tpms\", \"rear_brakes_type\", \"steering_type\"]\n",
    "\n",
    "# Convert \"Yes\"/\"No\" to 1/0 (Binary Encoding)\n",
    "for col in categorical_features:\n",
    "    insurance[col] = insurance[col].map({\"Yes\": 1, \"No\": 0})\n",
    "\n",
    "# One-hot encode categorical variables with multiple categories\n",
    "insurance = pd.get_dummies(insurance, columns=[\"fuel_type\", \"engine_type\", \"rear_brakes_type\"], drop_first=True)\n"
   ]
  },
  {
   "cell_type": "code",
   "execution_count": 10,
   "metadata": {},
   "outputs": [
    {
     "name": "stdout",
     "output_type": "stream",
     "text": [
      "Accuracy: 0.9350627186620019\n",
      "              precision    recall  f1-score   support\n",
      "\n",
      "           0       0.94      1.00      0.97     10973\n",
      "           1       0.06      0.00      0.00       746\n",
      "\n",
      "    accuracy                           0.94     11719\n",
      "   macro avg       0.50      0.50      0.48     11719\n",
      "weighted avg       0.88      0.94      0.91     11719\n",
      "\n"
     ]
    },
    {
     "name": "stderr",
     "output_type": "stream",
     "text": [
      "/Users/admin/.pyenv/versions/3.11.0/lib/python3.11/site-packages/seaborn/_oldcore.py:1498: FutureWarning: is_categorical_dtype is deprecated and will be removed in a future version. Use isinstance(dtype, CategoricalDtype) instead\n",
      "  if pd.api.types.is_categorical_dtype(vector):\n",
      "/Users/admin/.pyenv/versions/3.11.0/lib/python3.11/site-packages/seaborn/_oldcore.py:1498: FutureWarning: is_categorical_dtype is deprecated and will be removed in a future version. Use isinstance(dtype, CategoricalDtype) instead\n",
      "  if pd.api.types.is_categorical_dtype(vector):\n",
      "/Users/admin/.pyenv/versions/3.11.0/lib/python3.11/site-packages/seaborn/_oldcore.py:1498: FutureWarning: is_categorical_dtype is deprecated and will be removed in a future version. Use isinstance(dtype, CategoricalDtype) instead\n",
      "  if pd.api.types.is_categorical_dtype(vector):\n"
     ]
    },
    {
     "data": {
      "image/png": "[encoded data removed]",
      "text/plain": [
       "<Figure size 640x480 with 1 Axes>"
      ]
     },
     "metadata": {},
     "output_type": "display_data"
    }
   ],
   "source": [
    "insurance[\"density_sub_length\"] = insurance[\"region_density\"] * insurance[\"subscription_length\"]\n",
    "\n",
    "# Select features for Random Forest\n",
    "features = [\"subscription_length\", \"region_density\", \"density_sub_length\"]\n",
    "X = insurance[features]\n",
    "y = insurance[\"claim_status\"]\n",
    "\n",
    "# Split dataset into train & test sets\n",
    "X_train, X_test, y_train, y_test = train_test_split(X, y, test_size=0.2, random_state=42)\n",
    "\n",
    "# Train a Random Forest Classifier\n",
    "rf_model = RandomForestClassifier(n_estimators=100, random_state=42)\n",
    "rf_model.fit(X_train, y_train)\n",
    "\n",
    "# Predict and evaluate\n",
    "y_pred = rf_model.predict(X_test)\n",
    "print(\"Accuracy:\", accuracy_score(y_test, y_pred))\n",
    "print(classification_report(y_test, y_pred))\n",
    "\n",
    "# Feature importance plot\n",
    "\n",
    "\n",
    "feature_importance = pd.DataFrame({\"Feature\": X.columns, \"Importance\": rf_model.feature_importances_})\n",
    "feature_importance = feature_importance.sort_values(by=\"Importance\", ascending=False)\n",
    "\n",
    "sns.barplot(x=\"Importance\", y=\"Feature\", data=feature_importance, palette=\"Blues_r\")\n",
    "plt.title(\"Feature Importance from Random Forest\")\n",
    "plt.show()\n"
   ]
  },
  {
   "cell_type": "code",
   "execution_count": 12,
   "metadata": {},
   "outputs": [
    {
     "name": "stdout",
     "output_type": "stream",
     "text": [
      "Degrees of Freedom (Claims): 3747\n",
      "Degrees of Freedom (No Claims): 54843\n",
      "                    Mean (Claims) Mean (No Claims) Std Dev (Claims)  \\\n",
      "subscription_length      7.359472         6.026415         3.892442   \n",
      "region_density       17623.820438     18909.073445     16130.125259   \n",
      "vehicle_age              1.266222         1.396827         1.061162   \n",
      "\n",
      "                    Std Dev (No Claims) T-Statistic   P-Value  \\\n",
      "subscription_length            4.145695   20.198232       0.0   \n",
      "region_density             17757.086238   -4.687836  0.000003   \n",
      "vehicle_age                    1.138777   -7.254851       0.0   \n",
      "\n",
      "                                          Confidence Interval  \n",
      "subscription_length   (7.2348164104850925, 7.484127026014373)  \n",
      "region_density       (17107.253806316636, 18140.387068816766)  \n",
      "vehicle_age          (1.2322383177572698, 1.3002056523601262)  \n"
     ]
    }
   ],
   "source": [
    "import numpy as np\n",
    "import scipy.stats as stats\n",
    "import pandas as pd\n",
    "\n",
    "# Define significance level (alpha)\n",
    "alpha = 0.05\n",
    "\n",
    "# Define the hypotheses:\n",
    "# H0: The feature does not impact claim likelihood (mean difference = 0)\n",
    "# Ha: The feature impacts claim likelihood (mean difference ≠ 0)\n",
    "\n",
    "# 1️⃣ Degrees of Freedom (df)\n",
    "n_claims = len(insurance[insurance[\"claim_status\"] == 1])\n",
    "n_no_claims = len(insurance[insurance[\"claim_status\"] == 0])\n",
    "df_claims = n_claims - 1\n",
    "df_no_claims = n_no_claims - 1\n",
    "\n",
    "print(f\"Degrees of Freedom (Claims): {df_claims}\")\n",
    "print(f\"Degrees of Freedom (No Claims): {df_no_claims}\")\n",
    "\n",
    "# 2️⃣ Compute Sample Statistics\n",
    "features = [\"subscription_length\", \"region_density\", \"vehicle_age\"]\n",
    "results = {}\n",
    "\n",
    "for feature in features:\n",
    "    # Separate the data into two groups: claims (1) and no claims (0)\n",
    "    claims = insurance[insurance[\"claim_status\"] == 1][feature]\n",
    "    no_claims = insurance[insurance[\"claim_status\"] == 0][feature]\n",
    "\n",
    "    # Compute mean and standard deviation for each group\n",
    "    mean_claims = claims.mean()\n",
    "    mean_no_claims = no_claims.mean()\n",
    "    std_claims = claims.std()\n",
    "    std_no_claims = no_claims.std()\n",
    "\n",
    "    # Compute standard error of the mean (SEM)\n",
    "    SEM_claims = std_claims / np.sqrt(n_claims)\n",
    "    SEM_no_claims = std_no_claims / np.sqrt(n_no_claims)\n",
    "\n",
    "    # Compute the t-statistic\n",
    "    t_stat, p_value = stats.ttest_ind(claims, no_claims, equal_var=False)  # Welch's t-test\n",
    "\n",
    "    # Compute confidence interval\n",
    "    t_critical = stats.t.ppf(1 - alpha/2, min(df_claims, df_no_claims))  # Two-tailed test\n",
    "    ME = t_critical * SEM_claims  # Margin of error\n",
    "    confidence_interval = (mean_claims - ME, mean_claims + ME)\n",
    "\n",
    "    # Store results\n",
    "    results[feature] = {\n",
    "        \"Mean (Claims)\": mean_claims,\n",
    "        \"Mean (No Claims)\": mean_no_claims,\n",
    "        \"Std Dev (Claims)\": std_claims,\n",
    "        \"Std Dev (No Claims)\": std_no_claims,\n",
    "        \"T-Statistic\": t_stat,\n",
    "        \"P-Value\": p_value,\n",
    "        \"Confidence Interval\": confidence_interval\n",
    "    }\n",
    "\n",
    "# Convert results to a DataFrame and display\n",
    "results_df = pd.DataFrame(results).T\n",
    "print(results_df)\n"
   ]
  }
 ],
 "metadata": {
  "kernelspec": {
   "display_name": "3.11.0",
   "language": "python",
   "name": "python3"
  },
  "language_info": {
   "codemirror_mode": {
    "name": "ipython",
    "version": 3
   },
   "file_extension": ".py",
   "mimetype": "text/x-python",
   "name": "python",
   "nbconvert_exporter": "python",
   "pygments_lexer": "ipython3",
   "version": "3.11.0"
  }
 },
 "nbformat": 4,
 "nbformat_minor": 2
}
